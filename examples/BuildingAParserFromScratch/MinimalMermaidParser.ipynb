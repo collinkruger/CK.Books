{
 "cells": [
  {
   "cell_type": "markdown",
   "metadata": {},
   "source": [
    "# Minimal Mermaid Parser"
   ]
  },
  {
   "cell_type": "markdown",
   "metadata": {},
   "source": [
    "## Token Types"
   ]
  },
  {
   "cell_type": "code",
   "execution_count": 1,
   "metadata": {
    "dotnet_interactive": {
     "language": "csharp"
    },
    "vscode": {
     "languageId": "dotnet-interactive.csharp"
    }
   },
   "outputs": [],
   "source": [
    "static class TokenType\n",
    "{\n",
    "    public const string DIAGRAM_TYPE_TOKEN = \"DiagramTypeToken\";\n",
    "    public const string DIRECTION_TOKEN = \"DirectionToken\";\n",
    "    public const string NAME_TOKEN = \"NameToken\";\n",
    "    public const string DELIMITER_TOKEN = \"DelimiterToken\";\n",
    "    public const string LINK_TOKEN = \"LinkToken\";\n",
    "    public const string TEXT_TOKEN = \"TextToken\";\n",
    "}\n",
    "\n",
    "record Token\n",
    "{\n",
    "    public string Type { get; init; }\n",
    "    public string Value { get; init; }\n",
    "}"
   ]
  },
  {
   "cell_type": "markdown",
   "metadata": {},
   "source": [
    "## Tokenizer"
   ]
  },
  {
   "cell_type": "code",
   "execution_count": 2,
   "metadata": {
    "dotnet_interactive": {
     "language": "csharp"
    },
    "vscode": {
     "languageId": "dotnet-interactive.csharp"
    }
   },
   "outputs": [],
   "source": [
    "using System.Text.RegularExpressions;\n",
    "using static TokenType;"
   ]
  },
  {
   "cell_type": "code",
   "execution_count": 4,
   "metadata": {
    "dotnet_interactive": {
     "language": "csharp"
    },
    "vscode": {
     "languageId": "dotnet-interactive.csharp"
    }
   },
   "outputs": [],
   "source": [
    "class Tokenizer\n",
    "{\n",
    "    enum Where\n",
    "    {\n",
    "        IDK,\n",
    "        InDelimitedText\n",
    "    }\n",
    "    \n",
    "    private readonly string _str;\n",
    "    private int cur;\n",
    "    private Where where = Where.IDK;\n",
    "\n",
    "    public Tokenizer(string str) => _str = str;\n",
    "\n",
    "    bool HasMoreChars() => cur < _str.Length;\n",
    "    bool IsEOF() => cur == _str.Length;\n",
    "\n",
    "    string Segment(int left, int rightExclusive) => _str.Substring(left, rightExclusive - left);\n",
    "\n",
    "    bool MatchAndAdvance(string regex, out string match)\n",
    "    {\n",
    "        var r = new Regex(regex, RegexOptions.IgnoreCase);\n",
    "        var m = r.Match(_str, cur);\n",
    "\n",
    "        if (m.Success)\n",
    "        {\n",
    "            cur += m.Value.Length;\n",
    "            match = m.Value;\n",
    "            return true;\n",
    "        }\n",
    "        else\n",
    "        {\n",
    "            match = null;\n",
    "            return false;\n",
    "        }\n",
    "    }\n",
    "\n",
    "    public Token GetNextToken()\n",
    "    {\n",
    "        if (!HasMoreChars())\n",
    "            return null;\n",
    "\n",
    "        string match = null;\n",
    "        \n",
    "        switch (where)\n",
    "        {\n",
    "            case Where.IDK:\n",
    "            \n",
    "                // Whitespace\n",
    "\n",
    "                if (MatchAndAdvance(@\"\\G\\s+\", out match))\n",
    "                    return GetNextToken();\n",
    "\n",
    "                // Diagram Type\n",
    "\n",
    "                if (MatchAndAdvance(@\"\\Gflowchart\", out match))\n",
    "                    return new Token { Type = DIAGRAM_TYPE_TOKEN, Value = match };\n",
    "\n",
    "                // Direction\n",
    "\n",
    "                if (MatchAndAdvance(@\"\\G(TB|TD|BT|RL|LR)\", out match))\n",
    "                    return new Token { Type = DIRECTION_TOKEN, Value = match };\n",
    "\n",
    "                // Name\n",
    "\n",
    "                if (MatchAndAdvance(@\"\\G\\w+\", out match))\n",
    "                    return new Token { Type = NAME_TOKEN, Value = match };\n",
    "\n",
    "                // Delimiter\n",
    "\n",
    "                if (MatchAndAdvance(@\"\\G[(\\[]\", out match)) // Match an opening delimiter\n",
    "                {\n",
    "                    where = Where.InDelimitedText;\n",
    "                    return new Token { Type = DELIMITER_TOKEN, Value = match };\n",
    "                }\n",
    "\n",
    "                // Link\n",
    "\n",
    "                if (MatchAndAdvance(@\"\\G--+>\", out match)) // Matches a link that is either two or more dashes, or two more dashes with a trailing greater than symbol\n",
    "                    return new Token { Type = LINK_TOKEN, Value = match };\n",
    "                    \n",
    "                break;\n",
    "            \n",
    "            case Where.InDelimitedText:\n",
    "            \n",
    "                // Text\n",
    "                \n",
    "                if (MatchAndAdvance(@\"\\G[^[()\\[\\]]+\", out match)) // Match anything except a delimiter\n",
    "                    return new Token { Type = TEXT_TOKEN, Value = match };\n",
    "\n",
    "                // Delimiter\n",
    "\n",
    "                if (MatchAndAdvance(@\"\\G[)\\]]\", out match)) // Match an closing delimiter\n",
    "                {\n",
    "                    where = Where.IDK;\n",
    "                    return new Token { Type = DELIMITER_TOKEN, Value = match };\n",
    "                }\n",
    "                \n",
    "                break;\n",
    "        }\n",
    "\n",
    "        // Unrecognized token\n",
    "\n",
    "        throw new Exception($\"Unknown token: {_str[cur]} at {cur}\");\n",
    "    }\n",
    "\n",
    "    public static IEnumerable<Token> Tokenize(string str)\n",
    "    {\n",
    "        var tokenizer = new Tokenizer(str);\n",
    "        \n",
    "        Token t = null;\n",
    "        while ((t = tokenizer.GetNextToken()) != null)\n",
    "            yield return t;\n",
    "    }\n",
    "}"
   ]
  },
  {
   "cell_type": "code",
   "execution_count": 5,
   "metadata": {
    "dotnet_interactive": {
     "language": "csharp"
    },
    "vscode": {
     "languageId": "dotnet-interactive.csharp"
    }
   },
   "outputs": [
    {
     "data": {
      "text/html": [
       "<table><thead><tr><th><i>index</i></th><th>Type</th><th>Value</th></tr></thead><tbody><tr><td>0</td><td>DiagramTypeToken</td><td>flowchart</td></tr><tr><td>1</td><td>DirectionToken</td><td>TD</td></tr><tr><td>2</td><td>NameToken</td><td>Hello</td></tr><tr><td>3</td><td>LinkToken</td><td>--&gt;</td></tr><tr><td>4</td><td>NameToken</td><td>World</td></tr><tr><td>5</td><td>DelimiterToken</td><td>(</td></tr><tr><td>6</td><td>TextToken</td><td>The Earth</td></tr><tr><td>7</td><td>DelimiterToken</td><td>)</td></tr><tr><td>8</td><td>NameToken</td><td>Children</td></tr><tr><td>9</td><td>DelimiterToken</td><td>[</td></tr><tr><td>10</td><td>TextToken</td><td>Crumb Crunchers</td></tr><tr><td>11</td><td>DelimiterToken</td><td>]</td></tr><tr><td>12</td><td>LinkToken</td><td>--&gt;</td></tr><tr><td>13</td><td>NameToken</td><td>Parents</td></tr><tr><td>14</td><td>LinkToken</td><td>--&gt;</td></tr><tr><td>15</td><td>NameToken</td><td>Grandparents</td></tr></tbody></table>"
      ]
     },
     "metadata": {},
     "output_type": "display_data"
    }
   ],
   "source": [
    "Tokenizer.Tokenize(\n",
    "    @\"flowchart TD\n",
    "        Hello --> World(The Earth)\n",
    "        Children[Crumb Crunchers] --> Parents --> Grandparents\n",
    "    \"\n",
    ")"
   ]
  },
  {
   "cell_type": "markdown",
   "metadata": {},
   "source": [
    "## Parser Types"
   ]
  },
  {
   "cell_type": "code",
   "execution_count": 6,
   "metadata": {
    "dotnet_interactive": {
     "language": "csharp"
    },
    "vscode": {
     "languageId": "dotnet-interactive.csharp"
    }
   },
   "outputs": [],
   "source": [
    "public interface IExpression\n",
    "{\n",
    "    string Type { get; }\n",
    "}\n",
    "\n",
    "public enum NodeKind\n",
    "{\n",
    "    Rectangle,\n",
    "    Rounded\n",
    "}\n",
    "\n",
    "public class NodeExpression : IExpression\n",
    "{\n",
    "    public string Type { get; } = nameof(NodeExpression);\n",
    "    public string Name { get; init; }\n",
    "    public NodeKind NodeKind { get; init; }\n",
    "    public string Text { get; init; }\n",
    "}\n",
    "\n",
    "public class LinkExpression : IExpression\n",
    "{\n",
    "    public string Type { get; } = nameof(LinkExpression);\n",
    "    public int Length { get; init; }\n",
    "    public IExpression Left { get; init; }\n",
    "    public IExpression Right { get; init; }\n",
    "}\n",
    "\n",
    "public class Diagram\n",
    "{\n",
    "    public string DiagramType { get; init; }\n",
    "    public string Direction { get; init; }\n",
    "    public List<IExpression> Expressions { get; init; }\n",
    "}"
   ]
  },
  {
   "cell_type": "markdown",
   "metadata": {},
   "source": [
    "## Parser"
   ]
  },
  {
   "cell_type": "code",
   "execution_count": 7,
   "metadata": {
    "dotnet_interactive": {
     "language": "csharp"
    },
    "vscode": {
     "languageId": "dotnet-interactive.csharp"
    }
   },
   "outputs": [],
   "source": [
    "using static TokenType;"
   ]
  },
  {
   "cell_type": "code",
   "execution_count": 8,
   "metadata": {
    "dotnet_interactive": {
     "language": "csharp"
    },
    "vscode": {
     "languageId": "dotnet-interactive.csharp"
    }
   },
   "outputs": [],
   "source": [
    "class Parser\n",
    "{\n",
    "    private readonly IEnumerator<Token> _tokens;\n",
    "    private Token lookahead;\n",
    "    \n",
    "    public Parser(string str)\n",
    "    {\n",
    "        _tokens = Tokenizer.Tokenize(str).GetEnumerator();\n",
    "\n",
    "        lookahead = _tokens.MoveNext()\n",
    "                    ? _tokens.Current\n",
    "                    : null;\n",
    "    }\n",
    "\n",
    "    Token Consume(string type)\n",
    "    {\n",
    "        var token = lookahead;\n",
    "\n",
    "        if (token == null)\n",
    "            throw new Exception($\"Reached the end of the string, which was unexpected. Expected a token of type: {type}\");\n",
    "\n",
    "        if (token.Type != type)\n",
    "            throw new Exception($\"Was expecting a token of type {type}, but found a token of type {token.Type} instead ({token.Value}).\");\n",
    "\n",
    "        lookahead = _tokens.MoveNext()\n",
    "                    ? _tokens.Current\n",
    "                    : null;\n",
    "\n",
    "        return token;\n",
    "    }\n",
    "\n",
    "    Token Consume(string type, string value)\n",
    "    {\n",
    "        var token = Consume(type);\n",
    "\n",
    "        if (token.Value != value)\n",
    "            throw new Exception($\"Expecting token value of {value} for token type {type}, but found a value of {token.Value}\");\n",
    "            \n",
    "        return token;\n",
    "    }\n",
    "\n",
    "    string Text()\n",
    "    {\n",
    "        var delimiter = lookahead.Value;\n",
    "        Consume(DELIMITER_TOKEN);\n",
    "        \n",
    "        var t = Consume(TEXT_TOKEN);\n",
    "        \n",
    "        switch (delimiter)\n",
    "        {\n",
    "            case \"(\": Consume(DELIMITER_TOKEN, \")\"); break;\n",
    "            case \"[\": Consume(DELIMITER_TOKEN, \"]\"); break;\n",
    "            default: throw new Exception($\"Unrecogonized delimiter {delimiter}\");\n",
    "        }\n",
    "        \n",
    "        return t.Value;\n",
    "    }\n",
    "    \n",
    "    NodeExpression NodeExpression()\n",
    "    {\n",
    "        var name = Consume(NAME_TOKEN).Value;\n",
    "        \n",
    "        var kind = lookahead?.Type == DELIMITER_TOKEN\n",
    "                   && lookahead.Value == \"(\"\n",
    "                   ? NodeKind.Rounded\n",
    "                   : NodeKind.Rectangle;\n",
    "        \n",
    "        var text = lookahead?.Type == DELIMITER_TOKEN\n",
    "                   ? Text()\n",
    "                   : null;\n",
    "        \n",
    "        return new NodeExpression { Name = name, NodeKind = kind, Text = text };\n",
    "    }\n",
    "\n",
    "    IExpression LinkExpression()\n",
    "    {\n",
    "        IExpression left = NodeExpression();\n",
    "        \n",
    "        while (lookahead?.Type == LINK_TOKEN)\n",
    "        {\n",
    "            var length = Consume(LINK_TOKEN).Value.Length - 2;\n",
    "            \n",
    "            var right = NodeExpression();\n",
    "            \n",
    "            left = new LinkExpression { Length = length, Left = left, Right = right };\n",
    "        }\n",
    "        \n",
    "        return left;\n",
    "    }\n",
    "    \n",
    "    List<IExpression> ExpressionList()\n",
    "    {\n",
    "        var list = new List<IExpression>();\n",
    "        \n",
    "        while (lookahead?.Type == NAME_TOKEN)\n",
    "            list.Add(LinkExpression());\n",
    "        \n",
    "        return list;\n",
    "    }\n",
    "    \n",
    "    Diagram Diagram()\n",
    "    {\n",
    "        var type = Consume(DIAGRAM_TYPE_TOKEN).Value;\n",
    "        var direction = Consume(DIRECTION_TOKEN).Value;\n",
    "        var expressions = ExpressionList();\n",
    "        \n",
    "        return new Diagram { DiagramType = type, Direction = direction, Expressions = expressions };\n",
    "    }\n",
    "    \n",
    "    public static Diagram Parse(string str)\n",
    "    {\n",
    "        var parser = new Parser(str);\n",
    "        \n",
    "        return parser.Diagram();\n",
    "    }\n",
    "}"
   ]
  },
  {
   "cell_type": "code",
   "execution_count": 9,
   "metadata": {
    "dotnet_interactive": {
     "language": "csharp"
    },
    "vscode": {
     "languageId": "dotnet-interactive.csharp"
    }
   },
   "outputs": [
    {
     "data": {
      "text/html": [
       "<table><thead><tr><th>DiagramType</th><th>Direction</th><th>Expressions</th></tr></thead><tbody><tr><td><div class=\"dni-plaintext\">flowchart</div></td><td><div class=\"dni-plaintext\">TD</div></td><td><div class=\"dni-plaintext\">[ { Submission#7+LinkExpression: Type: LinkExpression, Length: 1, Left: { Submission#7+NodeExpression: Type: NodeExpression, Name: Hello, NodeKind: Rectangle, Text: &lt;null&gt; }, Right: { Submission#7+NodeExpression: Type: NodeExpression, Name: World, NodeKind: Rounded, Text: The Earth } }, { Submission#7+LinkExpression: Type: LinkExpression, Length: 1, Left: { Submission#7+LinkExpression: Type: LinkExpression, Length: 1, Left: { Submission#7+NodeExpression: Type: NodeExpression, Name: Children, NodeKind: Rectangle, Text: Crumb Crunchers }, Right: { Submission#7+NodeExpression: Type: NodeExpression, Name: Parents, NodeKind: Rectangle, Text: &lt;null&gt; } }, Right: { Submission#7+NodeExpression: Type: NodeExpression, Name: Grandparents, NodeKind: Rectangle, Text: &lt;null&gt; } } ]</div></td></tr></tbody></table>"
      ]
     },
     "metadata": {},
     "output_type": "display_data"
    }
   ],
   "source": [
    "var tree = Parser.Parse(\n",
    "    @\"flowchart TD\n",
    "        Hello --> World(The Earth)\n",
    "        Children[Crumb Crunchers] --> Parents --> Grandparents\n",
    "    \"\n",
    ");\n",
    "\n",
    "tree"
   ]
  },
  {
   "cell_type": "markdown",
   "metadata": {},
   "source": [
    "### Display As JSON"
   ]
  },
  {
   "cell_type": "code",
   "execution_count": 10,
   "metadata": {
    "dotnet_interactive": {
     "language": "csharp"
    },
    "vscode": {
     "languageId": "dotnet-interactive.csharp"
    }
   },
   "outputs": [
    {
     "data": {
      "text/html": [
       "<div><div></div><div></div><div><strong>Installed Packages</strong><ul><li><span>Newtonsoft.Json, 13.0.1</span></li></ul></div></div>"
      ]
     },
     "metadata": {},
     "output_type": "display_data"
    }
   ],
   "source": [
    "#r \"nuget:Newtonsoft.Json\""
   ]
  },
  {
   "cell_type": "code",
   "execution_count": 11,
   "metadata": {
    "dotnet_interactive": {
     "language": "csharp"
    },
    "vscode": {
     "languageId": "dotnet-interactive.csharp"
    }
   },
   "outputs": [
    {
     "data": {
      "text/plain": [
       "{\r\n",
       "  \"DiagramType\": \"flowchart\",\r\n",
       "  \"Direction\": \"TD\",\r\n",
       "  \"Expressions\": [\r\n",
       "    {\r\n",
       "      \"Type\": \"LinkExpression\",\r\n",
       "      \"Length\": 1,\r\n",
       "      \"Left\": {\r\n",
       "        \"Type\": \"NodeExpression\",\r\n",
       "        \"Name\": \"Hello\",\r\n",
       "        \"NodeKind\": 0,\r\n",
       "        \"Text\": null\r\n",
       "      },\r\n",
       "      \"Right\": {\r\n",
       "        \"Type\": \"NodeExpression\",\r\n",
       "        \"Name\": \"World\",\r\n",
       "        \"NodeKind\": 1,\r\n",
       "        \"Text\": \"The Earth\"\r\n",
       "      }\r\n",
       "    },\r\n",
       "    {\r\n",
       "      \"Type\": \"LinkExpression\",\r\n",
       "      \"Length\": 1,\r\n",
       "      \"Left\": {\r\n",
       "        \"Type\": \"LinkExpression\",\r\n",
       "        \"Length\": 1,\r\n",
       "        \"Left\": {\r\n",
       "          \"Type\": \"NodeExpression\",\r\n",
       "          \"Name\": \"Children\",\r\n",
       "          \"NodeKind\": 0,\r\n",
       "          \"Text\": \"Crumb Crunchers\"\r\n",
       "        },\r\n",
       "        \"Right\": {\r\n",
       "          \"Type\": \"NodeExpression\",\r\n",
       "          \"Name\": \"Parents\",\r\n",
       "          \"NodeKind\": 0,\r\n",
       "          \"Text\": null\r\n",
       "        }\r\n",
       "      },\r\n",
       "      \"Right\": {\r\n",
       "        \"Type\": \"NodeExpression\",\r\n",
       "        \"Name\": \"Grandparents\",\r\n",
       "        \"NodeKind\": 0,\r\n",
       "        \"Text\": null\r\n",
       "      }\r\n",
       "    }\r\n",
       "  ]\r\n",
       "}"
      ]
     },
     "metadata": {},
     "output_type": "display_data"
    }
   ],
   "source": [
    "using Newtonsoft.Json;\n",
    "\n",
    "Microsoft.DotNet.Interactive.Formatting.Formatter.ListExpansionLimit = Int32.MaxValue;\n",
    "\n",
    "JsonConvert.SerializeObject(tree, new JsonSerializerSettings { Formatting = Formatting.Indented })"
   ]
  }
 ],
 "metadata": {
  "kernelspec": {
   "display_name": ".NET (C#)",
   "language": "C#",
   "name": ".net-csharp"
  },
  "language_info": {
   "name": "C#"
  }
 },
 "nbformat": 4,
 "nbformat_minor": 2
}
